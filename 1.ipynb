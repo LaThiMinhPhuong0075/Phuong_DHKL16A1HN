{
 "cells": [
  {
   "cell_type": "code",
   "execution_count": null,
   "metadata": {},
   "outputs": [
    {
     "name": "stdout",
     "output_type": "stream",
     "text": [
      "Địa chỉ mạng: 192.168.1.0\n",
      "Địa chỉ broadcast: 192.168.1.63\n",
      "Dải địa chỉ khả dụng: 192.168.1.1 - 192.168.1.62\n"
     ]
    }
   ],
   "source": [
    "#Bài 1\n",
    "import ipaddress\n",
    "\n",
    "def network_info(ip_with_prefix):\n",
    "    network = ipaddress.ip_network(ip_with_prefix, strict=False)\n",
    "    network_address = network.network_address\n",
    "    broadcast_address = network.broadcast_address\n",
    "    usable_hosts = list(network.hosts())\n",
    "    \n",
    "    print(f\"Địa chỉ mạng: {network_address}\")\n",
    "    print(f\"Địa chỉ broadcast: {broadcast_address}\")\n",
    "    print(f\"Dải địa chỉ khả dụng: {usable_hosts[0]} - {usable_hosts[-1]}\")\n",
    "\n",
    "# Địa chỉ IP đầu vào\n",
    "ip_with_prefix = \"192.168.1.45/26\"\n",
    "network_info(ip_with_prefix)\n"
   ]
  },
  {
   "cell_type": "code",
   "execution_count": null,
   "metadata": {},
   "outputs": [
    {
     "name": "stdout",
     "output_type": "stream",
     "text": [
      "Subnet 1:\n",
      "  Địa chỉ mạng: 10.0.0.0\n",
      "  Địa chỉ broadcast: 10.0.0.63\n",
      "  Dải địa chỉ khả dụng: 10.0.0.1 - 10.0.0.62\n",
      "  Số lượng host khả dụng: 62\n",
      "----------------------------------------\n",
      "Subnet 2:\n",
      "  Địa chỉ mạng: 10.0.0.64\n",
      "  Địa chỉ broadcast: 10.0.0.127\n",
      "  Dải địa chỉ khả dụng: 10.0.0.65 - 10.0.0.126\n",
      "  Số lượng host khả dụng: 62\n",
      "----------------------------------------\n",
      "Subnet 3:\n",
      "  Địa chỉ mạng: 10.0.0.128\n",
      "  Địa chỉ broadcast: 10.0.0.191\n",
      "  Dải địa chỉ khả dụng: 10.0.0.129 - 10.0.0.190\n",
      "  Số lượng host khả dụng: 62\n",
      "----------------------------------------\n",
      "Subnet 4:\n",
      "  Địa chỉ mạng: 10.0.0.192\n",
      "  Địa chỉ broadcast: 10.0.0.255\n",
      "  Dải địa chỉ khả dụng: 10.0.0.193 - 10.0.0.254\n",
      "  Số lượng host khả dụng: 62\n",
      "----------------------------------------\n"
     ]
    }
   ],
   "source": [
    "#Bài 2\n",
    "import ipaddress\n",
    "\n",
    "def subnet_info(network, subnet_count):\n",
    "    # Chia subnet\n",
    "    subnets = list(ipaddress.ip_network(network).subnets(prefixlen_diff=2))  # /24 -> /26\n",
    "    \n",
    "    for i, subnet in enumerate(subnets[:subnet_count]):\n",
    "        network_address = subnet.network_address\n",
    "        broadcast_address = subnet.broadcast_address\n",
    "        usable_hosts = list(subnet.hosts())\n",
    "        host_count = len(usable_hosts)\n",
    "        \n",
    "        print(f\"Subnet {i+1}:\")\n",
    "        print(f\"  Địa chỉ mạng: {network_address}\")\n",
    "        print(f\"  Địa chỉ broadcast: {broadcast_address}\")\n",
    "        print(f\"  Dải địa chỉ khả dụng: {usable_hosts[0]} - {usable_hosts[-1]}\")\n",
    "        print(f\"  Số lượng host khả dụng: {host_count}\")\n",
    "        print(\"-\" * 40)\n",
    "\n",
    "# Địa chỉ IP đầu vào\n",
    "network = \"10.0.0.0/24\"\n",
    "subnet_count = 4\n",
    "subnet_info(network, subnet_count)\n"
   ]
  },
  {
   "cell_type": "code",
   "execution_count": null,
   "metadata": {},
   "outputs": [
    {
     "name": "stdout",
     "output_type": "stream",
     "text": [
      "Địa chỉ mạng: 172.16.4.0\n",
      "Địa chỉ broadcast: 172.16.7.255\n",
      "Subnet Mask: 255.255.252.0\n",
      "Số lượng host khả dụng: 1022\n"
     ]
    }
   ],
   "source": [
    "#Bài 3\n",
    "import ipaddress\n",
    "\n",
    "def subnet_details(ip_with_prefix):\n",
    "    network = ipaddress.ip_network(ip_with_prefix, strict=False)\n",
    "    network_address = network.network_address\n",
    "    broadcast_address = network.broadcast_address\n",
    "    subnet_mask = network.netmask\n",
    "    usable_hosts = list(network.hosts())\n",
    "    host_count = len(usable_hosts)\n",
    "    \n",
    "    print(f\"Địa chỉ mạng: {network_address}\")\n",
    "    print(f\"Địa chỉ broadcast: {broadcast_address}\")\n",
    "    print(f\"Subnet Mask: {subnet_mask}\")\n",
    "    print(f\"Số lượng host khả dụng: {host_count}\")\n",
    "\n",
    "# Địa chỉ IP đầu vào\n",
    "ip_with_prefix = \"172.16.5.200/22\"\n",
    "subnet_details(ip_with_prefix)"
   ]
  }
 ],
 "metadata": {
  "kernelspec": {
   "display_name": "Python 3",
   "language": "python",
   "name": "python3"
  },
  "language_info": {
   "codemirror_mode": {
    "name": "ipython",
    "version": 3
   },
   "file_extension": ".py",
   "mimetype": "text/x-python",
   "name": "python",
   "nbconvert_exporter": "python",
   "pygments_lexer": "ipython3",
   "version": "3.9.0"
  }
 },
 "nbformat": 4,
 "nbformat_minor": 2
}
